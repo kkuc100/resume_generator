{
 "cells": [
  {
   "cell_type": "code",
   "execution_count": 1,
   "id": "6461a5a5-c4e5-4c2d-91ae-989769fca6ae",
   "metadata": {},
   "outputs": [],
   "source": [
    "from docx import Document\n",
    "from docx.shared import Pt, RGBColor, Inches, Cm\n",
    "from docx.enum.text import WD_PARAGRAPH_ALIGNMENT, WD_UNDERLINE\n",
    "from docx.oxml import OxmlElement\n",
    "from openai import OpenAI\n",
    "import os\n",
    "import sys\n",
    "import nbimporter"
   ]
  },
  {
   "cell_type": "markdown",
   "id": "f0b5e24a-0433-45f6-87ce-a8fb7dd9bb23",
   "metadata": {},
   "source": [
    "### Get API Key"
   ]
  },
  {
   "cell_type": "code",
   "execution_count": 4,
   "id": "93fb41b5-34cb-43be-97ac-1ad901afdf74",
   "metadata": {},
   "outputs": [
    {
     "ename": "NameError",
     "evalue": "name 'sys' is not defined",
     "output_type": "error",
     "traceback": [
      "\u001b[0;31m---------------------------------------------------------------------------\u001b[0m",
      "\u001b[0;31mNameError\u001b[0m                                 Traceback (most recent call last)",
      "Cell \u001b[0;32mIn[4], line 1\u001b[0m\n\u001b[0;32m----> 1\u001b[0m \u001b[43msys\u001b[49m\u001b[38;5;241m.\u001b[39mpath\u001b[38;5;241m.\u001b[39mappend(os\u001b[38;5;241m.\u001b[39mpath\u001b[38;5;241m.\u001b[39mabspath(\u001b[38;5;124m'\u001b[39m\u001b[38;5;124m/Users/kevinkuc/Documents/API_keys\u001b[39m\u001b[38;5;124m'\u001b[39m))\n\u001b[1;32m      2\u001b[0m \u001b[38;5;28;01mfrom\u001b[39;00m \u001b[38;5;21;01mchat_api\u001b[39;00m \u001b[38;5;28;01mimport\u001b[39;00m API_KEY\n",
      "\u001b[0;31mNameError\u001b[0m: name 'sys' is not defined"
     ]
    }
   ],
   "source": [
    "sys.path.append(os.path.abspath('/Users/kevinkuc/Documents/API_keys'))\n",
    "from chat_api import API_KEY"
   ]
  },
  {
   "cell_type": "markdown",
   "id": "290cb4fa-7380-4b47-9de5-1307348050da",
   "metadata": {},
   "source": [
    "## Format the Run"
   ]
  },
  {
   "cell_type": "code",
   "execution_count": 3,
   "id": "7c24898d-86f1-4f97-b16d-3dbb420f4c13",
   "metadata": {},
   "outputs": [],
   "source": [
    "def format_run(run, color=None, font_size=None, bold=False, font_name=None, underline=None, italic=False):\n",
    "    \"\"\"Used to format any other function that is needed\"\"\"\n",
    "    \n",
    "    if color:\n",
    "        run.font.color.rgb = color\n",
    "    if font_size:\n",
    "        run.font.size = Pt(font_size)\n",
    "    run.font.bold = bold\n",
    "    if font_name:\n",
    "        run.font.name = font_name\n",
    "    if underline:\n",
    "        run.font.underline = underline\n",
    "    if italic:\n",
    "        run.font.italic = italic\n"
   ]
  },
  {
   "cell_type": "markdown",
   "id": "fb9ff96a-3782-4334-b94f-5666c4b5290e",
   "metadata": {},
   "source": [
    "## Prompt the User Functions"
   ]
  },
  {
   "cell_type": "code",
   "execution_count": 4,
   "id": "d805121d-e3a5-4950-a151-c393a476ff08",
   "metadata": {},
   "outputs": [],
   "source": [
    "def get_personal_info():\n",
    "    name = input(\"Enter your full name: \").title()\n",
    "    linkedin = input(\"Enter your LinkedIn profile link (or None): \")\n",
    "    if linkedin == \"none\" or linkedin == \"None\":\n",
    "        linkedin = 'www.linkedin.com'\n",
    "    phone = input(\"Enter your phone number: \")\n",
    "    email = input(\"Enter your email address: \")\n",
    "    return name, linkedin, phone, email\n",
    "\n",
    "def get_education_info():\n",
    "    university = input(\"Enter the name of your school/university: \").upper()\n",
    "    uni_location = input(\"Enter the location of your school/university (City, State): \").title()\n",
    "    degree_college = input(\"Enter the college or school of your degree (Bachelors, Masters, Associates, High School Diploma): \").title()\n",
    "    years_attended = input(\"Enter the years you attended the school/university (Mon Year - Mon Year): \")\n",
    "    major_minor = input(\"Enter your major and minor: \").title()\n",
    "    gpa = input(\"Enter your GPA (3.8/4.0): \")\n",
    "    return university, uni_location, degree_college, years_attended, major_minor, gpa\n",
    "\n",
    "def get_work_experience():\n",
    "    company = input(\"Enter the name of the company: \").upper()\n",
    "    location = input(\"Enter the location of the company (City, State): \").title()\n",
    "    title = input(\"Enter your job title: \").title()\n",
    "    years = input(\"Enter the years you worked at the company (Mon Year - Mon Year): \").title()\n",
    "    client = OpenAI(api_key=API_KEY)\n",
    "    completion = client.chat.completions.create(model=\"gpt-3.5-turbo\",messages=[\n",
    "    {\"role\": \"system\", \"content\": \"You are a resume assistant, use your imagination to create 3-4 bullet points for the job that is inputted, add percentage increase and be specific\"},\n",
    "    {\"role\": \"user\", \"content\": f'{title} at {company} and worked for {years} dates'}])\n",
    "    accomplishments = completion.choices[0].message.content\n",
    "    return company, location, title, years, accomplishments\n",
    "\n",
    "def get_skills(work_experiences):\n",
    "    client = OpenAI(api_key=API_KEY)\n",
    "    completion = client.chat.completions.create(model=\"gpt-3.5-turbo\",messages=[\n",
    "    {\"role\": \"system\", \"content\": \"You are a resume assistant, produce what skills can be pulled from based off what I input. Please comma seperate the skills and put them all on one line\"},\n",
    "    {\"role\": \"user\", \"content\": f'{work_experiences}'}])\n",
    "    skills = completion.choices[0].message.content\n",
    "    return skills\n"
   ]
  },
  {
   "cell_type": "markdown",
   "id": "80e9c752-1ccf-497d-a13f-6f261bf6a989",
   "metadata": {},
   "source": [
    "## Functions for the Description"
   ]
  },
  {
   "cell_type": "code",
   "execution_count": 5,
   "id": "a88a3197-7f58-46a3-86d7-b8ea09164e26",
   "metadata": {},
   "outputs": [],
   "source": [
    "def add_name(doc, name):\n",
    "    \n",
    "    heading = doc.add_heading(name, 1)\n",
    "    run = heading.runs[0]\n",
    "    format_run(run, RGBColor(0,0,0), font_size=20, bold=True, font_name='Times New Roman')\n",
    "    heading.alignment = WD_PARAGRAPH_ALIGNMENT.CENTER\n",
    "\n",
    "def add_contact_info(doc, linkedin, phone, email):\n",
    "    \n",
    "    info = doc.add_paragraph()\n",
    "    info.add_run(f'{linkedin}\\t')\n",
    "    info.add_run(f'\\t{phone}\\t')\n",
    "    info.add_run(f'\\t{email}')\n",
    "    info.alignment = WD_PARAGRAPH_ALIGNMENT.CENTER\n",
    "    \n",
    "    horizontal_line = doc.add_paragraph()\n",
    "    horizontal_line.add_run(\"-------------------------------------------------------------------------------------------------------------------------------------------------------\")\n",
    "    horizontal_line.alignment = WD_PARAGRAPH_ALIGNMENT.CENTER\n",
    "\n",
    "def education_header(doc):\n",
    "\n",
    "    education_title = doc.add_heading(\"Education\", level=2)\n",
    "    run = education_title.runs[0]\n",
    "    format_run(run, RGBColor(0,0,0), font_size=14, bold=True, font_name='Times New Roman', underline=True)\n",
    "    education_title.alignment = WD_PARAGRAPH_ALIGNMENT.CENTER\n",
    "\n",
    "def add_education(doc, university, uni_location, degree_college, years_attended, major_minor, gpa):\n",
    "\n",
    "    eduction = doc.add_paragraph()\n",
    "    run1 = eduction.add_run(f\"{university}, {degree_college}\\t\\t\\t{years_attended}\")\n",
    "    run2 = eduction.add_run(f\"\\n{uni_location} - {major_minor}\\t\\t\\t\\t\\t\\t\\t\\tGPA {gpa}\")\n",
    "    format_run(run1, RGBColor(0,0,0), font_size=11, bold=True, font_name='Times New Roman', underline=False)\n",
    "    format_run(run2, RGBColor(0,0,0), font_size=11, bold=False, font_name='Times New Roman', underline=False, italic=True)\n",
    "    eduction.alignment = WD_PARAGRAPH_ALIGNMENT.LEFT\n",
    "\n",
    "def work_header(doc):\n",
    "\n",
    "    work_title = doc.add_heading(\"Work Experience\", level=2)\n",
    "    run = work_title.runs[0]\n",
    "    format_run(run, RGBColor(0,0,0), font_size=14, bold=True, font_name='Times New Roman', underline=True)\n",
    "    work_title.alignment = WD_PARAGRAPH_ALIGNMENT.CENTER\n",
    "\n",
    "def add_work(doc, company, location, title, years, accomplishments):\n",
    "    \n",
    "    work = doc.add_paragraph()\n",
    "    run1 = work.add_run(f\"{company}, {location}\")\n",
    "    run2 = work.add_run(f\"\\n{title}\\t\\t\\t\\t\\t\\t\\t\\t\\t\\t{years}\\n\")\n",
    "    accomplishment_run = work.add_run(f\"{accomplishments}\")\n",
    "    format_run(accomplishment_run, RGBColor(0, 0, 0), font_size=11, bold=False, font_name='Times New Roman', underline=False, italic=False)\n",
    "    format_run(run1, RGBColor(0, 0, 0), font_size=11, bold=True, font_name='Times New Roman', underline=False)\n",
    "    format_run(run2, RGBColor(0, 0, 0), font_size=11, bold=False, font_name='Times New Roman', underline=False, italic=True)\n",
    "    work.alignment = WD_PARAGRAPH_ALIGNMENT.LEFT\n",
    "\n",
    "def add_skills(doc, skills):\n",
    "\n",
    "    skill_title = doc.add_heading(\"Skills\", level=2)\n",
    "    run = skill_title.runs[0]\n",
    "    format_run(run, RGBColor(0,0,0), font_size=14, bold=True, font_name='Times New Roman', underline=True)\n",
    "    skill_title.alignment = WD_PARAGRAPH_ALIGNMENT.CENTER\n",
    "    \n",
    "    skills_par = doc.add_paragraph()\n",
    "    skills_par.add_run(f\"{skills}\")\n",
    "    skills_par.alignment = WD_PARAGRAPH_ALIGNMENT.LEFT"
   ]
  },
  {
   "cell_type": "markdown",
   "id": "33e227d4-a003-40bf-b527-f40218e6db2a",
   "metadata": {},
   "source": [
    "## Test the Program"
   ]
  },
  {
   "cell_type": "code",
   "execution_count": 6,
   "id": "fd813a28-4fa6-4de1-93fd-34c95acc5ea3",
   "metadata": {},
   "outputs": [
    {
     "name": "stdin",
     "output_type": "stream",
     "text": [
      "Enter your full name:  Ethan Alexander\n",
      "Enter your LinkedIn profile link (or None):  None\n",
      "Enter your phone number:  682-252-3441\n",
      "Enter your email address:  zaleeth@gmail.com\n",
      "Do you want to add eduction? (yes/no):  Yes\n",
      "Enter the name of your school/university:  Chisholm Trail High School\n",
      "Enter the location of your school/university (City, State):  Fort Worth, Texas\n",
      "Enter the college or school of your degree (Bachelors, Masters, Associates, High School Diploma):  High School Diploma\n",
      "Enter the years you attended the school/university (Mon Year - Mon Year):  Aug 2020 - June 2021\n",
      "Enter your major and minor:  \n",
      "Enter your GPA (3.8/4.0):  3.5/4.0\n",
      "Do you want to add another education? (yes/no):  No\n",
      "Do you want to add work experience? (yes/no):  Yes\n",
      "Enter the name of the company:  United States Marine Corps\n",
      "Enter the location of the company (City, State):  Jacksonville, NC\n",
      "Enter your job title:  Combat Engineer\n",
      "Enter the years you worked at the company (Mon Year - Mon Year):  Nov 2021 - Jan 2024\n",
      "Do you want to add another work experience? (yes/no):  No\n"
     ]
    }
   ],
   "source": [
    "if __name__ == \"__main__\":\n",
    "    \"\"\"\n",
    "    name = \"kevin b. cook\".upper()\n",
    "    linkedin = \"www.linkedin.com/in/kevin-cook\"\n",
    "    phone = \"(908) 581-8384\"\n",
    "    email = \"kcook234@gmail.com\"\n",
    "    education_info = [[\"university of alabama\",'tuscaloosa, AL',\"college of information science\",'June 2016 - July 2020','mechanical engineering','3.8/4.0']]\n",
    "    work_experiences = [['Publix', 'Wilmington NC', 'Cashier', 'Jan 2020 - Feb 2022', '1. Successfully processed an average of 100 transactions per hour with 99.5% accuracy, resulting in a 10% increase in checkout efficiency compared to previous cashiers.\\n2. Promoted customer satisfaction by providing exceptional service, resulting in a 15% increase in positive customer feedback during my tenure.\\n3. Implemented innovative cash handling techniques, resulting in a 20% decrease in cash discrepancies and enhancing overall store profitability.\\n4. Demonstrated strong teamwork and collaboration skills by assisting colleagues during peak hours, contributing to a 10% decrease in customer wait times.']]\n",
    "    skills = 'MySQL, Javascript, Python'\n",
    "    \"\"\"\n",
    "    #Delete when in full production\n",
    "\n",
    "#-----------------------------------------------------------------\n",
    "  \n",
    "    # Get personal information\n",
    "    name, linkedin, phone, email = get_personal_info()\n",
    "    \n",
    "    # Get education information\n",
    "    education_info = []\n",
    "    add_eduction = input(\"Do you want to add eduction? (yes/no): \").lower()\n",
    "    while add_eduction == 'yes':\n",
    "        eduction = get_education_info()\n",
    "        education_info.append(eduction)\n",
    "        add_eduction = input(\"Do you want to add another education? (yes/no): \").lower()\n",
    "    \n",
    "    # Get work experience information (allowing for multiple experiences)\n",
    "    work_experiences = []\n",
    "    add_experience = input(\"Do you want to add work experience? (yes/no): \").lower()\n",
    "    while add_experience == 'yes':\n",
    "        experience = get_work_experience()\n",
    "        work_experiences.append(experience)\n",
    "        add_experience = input(\"Do you want to add another work experience? (yes/no): \").lower()\n",
    "\n",
    "    #Get skills from work experiences\n",
    "    skills = get_skills(work_experiences)\n",
    "    \n",
    "    \n",
    "    # Create the resume template\n",
    "    resume = Document()\n",
    "    section = resume.sections[0]\n",
    "    section.top_margin = Cm(0.5)\n",
    "    section.bottom_margin = Cm(0.5)\n",
    "    section.left_margin = Cm(1)\n",
    "    section.right_margin = Cm(1)\n",
    "    add_name(resume, name)\n",
    "    add_contact_info(resume, linkedin, phone, email)\n",
    "    \n",
    "    education_header(resume)\n",
    "    for eduction_inf in education_info:\n",
    "        add_education(resume, eduction_inf[0],eduction_inf[1],eduction_inf[2],eduction_inf[3],eduction_inf[4],eduction_inf[5])\n",
    "\n",
    "    work_header(resume)\n",
    "    for work_experience in work_experiences:\n",
    "        add_work(resume, work_experience[0],work_experience[1],work_experience[2],work_experience[3],work_experience[4])\n",
    "\n",
    "    add_skills(resume, skills)\n",
    "\n",
    "    # Save the document\n",
    "    full_name = name.split()\n",
    "    \n",
    "    # Get the first and last words\n",
    "    first_word = full_name[0] if full_name else None\n",
    "    last_word = full_name[-1] if full_name else None\n",
    "    \n",
    "    # Join the first and last words to create a valid filename\n",
    "    filename = f'{first_word}_{last_word}_resume_template.docx' if first_word and last_word else 'resume_template.docx'\n",
    "    \n",
    "    resume.save(filename)\n"
   ]
  },
  {
   "cell_type": "code",
   "execution_count": null,
   "id": "561c7b04-e85c-46bb-9e08-424a4a762e2b",
   "metadata": {},
   "outputs": [],
   "source": []
  },
  {
   "cell_type": "code",
   "execution_count": null,
   "id": "43b550f2-36b5-46c4-b40b-385728356530",
   "metadata": {},
   "outputs": [],
   "source": []
  }
 ],
 "metadata": {
  "kernelspec": {
   "display_name": "Python 3 (ipykernel)",
   "language": "python",
   "name": "python3"
  },
  "language_info": {
   "codemirror_mode": {
    "name": "ipython",
    "version": 3
   },
   "file_extension": ".py",
   "mimetype": "text/x-python",
   "name": "python",
   "nbconvert_exporter": "python",
   "pygments_lexer": "ipython3",
   "version": "3.10.1"
  }
 },
 "nbformat": 4,
 "nbformat_minor": 5
}
